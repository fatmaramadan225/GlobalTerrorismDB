{
 "cells": [
  {
   "cell_type": "code",
   "execution_count": 8,
   "id": "ab94cb64",
   "metadata": {},
   "outputs": [
    {
     "name": "stdout",
     "output_type": "stream",
     "text": [
      "Requirement already satisfied: pandas in c:\\users\\elhady\\anaconda3\\lib\\site-packages (2.2.2)\n",
      "Requirement already satisfied: numpy>=1.22.4 in c:\\users\\elhady\\anaconda3\\lib\\site-packages (from pandas) (1.26.4)\n",
      "Requirement already satisfied: python-dateutil>=2.8.2 in c:\\users\\elhady\\anaconda3\\lib\\site-packages (from pandas) (2.8.2)\n",
      "Requirement already satisfied: pytz>=2020.1 in c:\\users\\elhady\\anaconda3\\lib\\site-packages (from pandas) (2022.1)\n",
      "Requirement already satisfied: tzdata>=2022.7 in c:\\users\\elhady\\anaconda3\\lib\\site-packages (from pandas) (2024.1)\n",
      "Requirement already satisfied: six>=1.5 in c:\\users\\elhady\\anaconda3\\lib\\site-packages (from python-dateutil>=2.8.2->pandas) (1.16.0)\n",
      "Note: you may need to restart the kernel to use updated packages.\n"
     ]
    }
   ],
   "source": [
    "pip install pandas"
   ]
  },
  {
   "cell_type": "code",
   "execution_count": 1,
   "id": "9e3d5a5e",
   "metadata": {},
   "outputs": [],
   "source": [
    "import warnings\n",
    "warnings.filterwarnings(\"ignore\")"
   ]
  },
  {
   "cell_type": "code",
   "execution_count": 2,
   "id": "8f362a0c",
   "metadata": {},
   "outputs": [],
   "source": [
    "import pandas as pd\n",
    "import chardet"
   ]
  },
  {
   "cell_type": "markdown",
   "id": "b4ee19b5",
   "metadata": {},
   "source": [
    "# Find Encoding of Data"
   ]
  },
  {
   "cell_type": "code",
   "execution_count": 6,
   "id": "35167d9f",
   "metadata": {},
   "outputs": [
    {
     "name": "stdout",
     "output_type": "stream",
     "text": [
      "{'encoding': 'Windows-1252', 'confidence': 0.73, 'language': ''}\n"
     ]
    }
   ],
   "source": [
    "with open (r'C:\\Users\\ELHADY\\Desktop\\global_terrorism\\globalterrorismdb_0718dist.csv','rb') as obj:\n",
    "    encoding = chardet.detect(obj.read())\n",
    "print(encoding)"
   ]
  },
  {
   "cell_type": "code",
   "execution_count": 37,
   "id": "e0f4d507",
   "metadata": {},
   "outputs": [],
   "source": [
    "data = pd.read_csv(\"globalterrorismdb_0718dist.csv\",encoding='Windows-1252')"
   ]
  },
  {
   "cell_type": "code",
   "execution_count": 4,
   "id": "fa2d2832",
   "metadata": {},
   "outputs": [
    {
     "data": {
      "text/plain": [
       "Index(['eventid', 'iyear', 'imonth', 'iday', 'approxdate', 'extended',\n",
       "       'resolution', 'country', 'country_txt', 'region',\n",
       "       ...\n",
       "       'addnotes', 'scite1', 'scite2', 'scite3', 'dbsource', 'INT_LOG',\n",
       "       'INT_IDEO', 'INT_MISC', 'INT_ANY', 'related'],\n",
       "      dtype='object', length=135)"
      ]
     },
     "execution_count": 4,
     "metadata": {},
     "output_type": "execute_result"
    }
   ],
   "source": [
    "data.columns"
   ]
  },
  {
   "cell_type": "code",
   "execution_count": 55,
   "id": "f08c6479",
   "metadata": {},
   "outputs": [
    {
     "data": {
      "text/html": [
       "<div>\n",
       "<style scoped>\n",
       "    .dataframe tbody tr th:only-of-type {\n",
       "        vertical-align: middle;\n",
       "    }\n",
       "\n",
       "    .dataframe tbody tr th {\n",
       "        vertical-align: top;\n",
       "    }\n",
       "\n",
       "    .dataframe thead th {\n",
       "        text-align: right;\n",
       "    }\n",
       "</style>\n",
       "<table border=\"1\" class=\"dataframe\">\n",
       "  <thead>\n",
       "    <tr style=\"text-align: right;\">\n",
       "      <th></th>\n",
       "      <th>eventid</th>\n",
       "      <th>iyear</th>\n",
       "      <th>imonth</th>\n",
       "      <th>iday</th>\n",
       "      <th>extended</th>\n",
       "      <th>country</th>\n",
       "      <th>region</th>\n",
       "      <th>latitude</th>\n",
       "      <th>longitude</th>\n",
       "      <th>specificity</th>\n",
       "      <th>...</th>\n",
       "      <th>nkillter</th>\n",
       "      <th>nwound</th>\n",
       "      <th>nwoundus</th>\n",
       "      <th>nwoundte</th>\n",
       "      <th>property</th>\n",
       "      <th>ishostkid</th>\n",
       "      <th>INT_LOG</th>\n",
       "      <th>INT_IDEO</th>\n",
       "      <th>INT_MISC</th>\n",
       "      <th>INT_ANY</th>\n",
       "    </tr>\n",
       "  </thead>\n",
       "  <tbody>\n",
       "    <tr>\n",
       "      <th>count</th>\n",
       "      <td>1.816910e+05</td>\n",
       "      <td>181691.000000</td>\n",
       "      <td>181691.000000</td>\n",
       "      <td>181691.000000</td>\n",
       "      <td>181691.000000</td>\n",
       "      <td>181691.000000</td>\n",
       "      <td>181691.000000</td>\n",
       "      <td>177135.000000</td>\n",
       "      <td>1.771340e+05</td>\n",
       "      <td>181685.000000</td>\n",
       "      <td>...</td>\n",
       "      <td>114733.000000</td>\n",
       "      <td>165380.000000</td>\n",
       "      <td>116989.000000</td>\n",
       "      <td>112548.000000</td>\n",
       "      <td>181691.000000</td>\n",
       "      <td>181513.000000</td>\n",
       "      <td>181691.000000</td>\n",
       "      <td>181691.000000</td>\n",
       "      <td>181691.000000</td>\n",
       "      <td>181691.000000</td>\n",
       "    </tr>\n",
       "    <tr>\n",
       "      <th>mean</th>\n",
       "      <td>2.002705e+11</td>\n",
       "      <td>2002.638997</td>\n",
       "      <td>6.467277</td>\n",
       "      <td>15.505644</td>\n",
       "      <td>0.045346</td>\n",
       "      <td>131.968501</td>\n",
       "      <td>7.160938</td>\n",
       "      <td>23.498343</td>\n",
       "      <td>-4.586957e+02</td>\n",
       "      <td>1.451452</td>\n",
       "      <td>...</td>\n",
       "      <td>0.508058</td>\n",
       "      <td>3.167668</td>\n",
       "      <td>0.038944</td>\n",
       "      <td>0.107163</td>\n",
       "      <td>-0.544556</td>\n",
       "      <td>0.059054</td>\n",
       "      <td>-4.543731</td>\n",
       "      <td>-4.464398</td>\n",
       "      <td>0.090010</td>\n",
       "      <td>-3.945952</td>\n",
       "    </tr>\n",
       "    <tr>\n",
       "      <th>std</th>\n",
       "      <td>1.325957e+09</td>\n",
       "      <td>13.259430</td>\n",
       "      <td>3.388303</td>\n",
       "      <td>8.814045</td>\n",
       "      <td>0.208063</td>\n",
       "      <td>112.414535</td>\n",
       "      <td>2.933408</td>\n",
       "      <td>18.569242</td>\n",
       "      <td>2.047790e+05</td>\n",
       "      <td>0.995430</td>\n",
       "      <td>...</td>\n",
       "      <td>4.199937</td>\n",
       "      <td>35.949392</td>\n",
       "      <td>3.057361</td>\n",
       "      <td>1.488881</td>\n",
       "      <td>3.122889</td>\n",
       "      <td>0.461244</td>\n",
       "      <td>4.543547</td>\n",
       "      <td>4.637152</td>\n",
       "      <td>0.568457</td>\n",
       "      <td>4.691325</td>\n",
       "    </tr>\n",
       "    <tr>\n",
       "      <th>min</th>\n",
       "      <td>1.970000e+11</td>\n",
       "      <td>1970.000000</td>\n",
       "      <td>0.000000</td>\n",
       "      <td>0.000000</td>\n",
       "      <td>0.000000</td>\n",
       "      <td>4.000000</td>\n",
       "      <td>1.000000</td>\n",
       "      <td>-53.154613</td>\n",
       "      <td>-8.618590e+07</td>\n",
       "      <td>1.000000</td>\n",
       "      <td>...</td>\n",
       "      <td>0.000000</td>\n",
       "      <td>0.000000</td>\n",
       "      <td>0.000000</td>\n",
       "      <td>0.000000</td>\n",
       "      <td>-9.000000</td>\n",
       "      <td>-9.000000</td>\n",
       "      <td>-9.000000</td>\n",
       "      <td>-9.000000</td>\n",
       "      <td>-9.000000</td>\n",
       "      <td>-9.000000</td>\n",
       "    </tr>\n",
       "    <tr>\n",
       "      <th>25%</th>\n",
       "      <td>1.991021e+11</td>\n",
       "      <td>1991.000000</td>\n",
       "      <td>4.000000</td>\n",
       "      <td>8.000000</td>\n",
       "      <td>0.000000</td>\n",
       "      <td>78.000000</td>\n",
       "      <td>5.000000</td>\n",
       "      <td>11.510046</td>\n",
       "      <td>4.545640e+00</td>\n",
       "      <td>1.000000</td>\n",
       "      <td>...</td>\n",
       "      <td>0.000000</td>\n",
       "      <td>0.000000</td>\n",
       "      <td>0.000000</td>\n",
       "      <td>0.000000</td>\n",
       "      <td>0.000000</td>\n",
       "      <td>0.000000</td>\n",
       "      <td>-9.000000</td>\n",
       "      <td>-9.000000</td>\n",
       "      <td>0.000000</td>\n",
       "      <td>-9.000000</td>\n",
       "    </tr>\n",
       "    <tr>\n",
       "      <th>50%</th>\n",
       "      <td>2.009022e+11</td>\n",
       "      <td>2009.000000</td>\n",
       "      <td>6.000000</td>\n",
       "      <td>15.000000</td>\n",
       "      <td>0.000000</td>\n",
       "      <td>98.000000</td>\n",
       "      <td>6.000000</td>\n",
       "      <td>31.467463</td>\n",
       "      <td>4.324651e+01</td>\n",
       "      <td>1.000000</td>\n",
       "      <td>...</td>\n",
       "      <td>0.000000</td>\n",
       "      <td>0.000000</td>\n",
       "      <td>0.000000</td>\n",
       "      <td>0.000000</td>\n",
       "      <td>1.000000</td>\n",
       "      <td>0.000000</td>\n",
       "      <td>-9.000000</td>\n",
       "      <td>-9.000000</td>\n",
       "      <td>0.000000</td>\n",
       "      <td>0.000000</td>\n",
       "    </tr>\n",
       "    <tr>\n",
       "      <th>75%</th>\n",
       "      <td>2.014081e+11</td>\n",
       "      <td>2014.000000</td>\n",
       "      <td>9.000000</td>\n",
       "      <td>23.000000</td>\n",
       "      <td>0.000000</td>\n",
       "      <td>160.000000</td>\n",
       "      <td>10.000000</td>\n",
       "      <td>34.685087</td>\n",
       "      <td>6.871033e+01</td>\n",
       "      <td>1.000000</td>\n",
       "      <td>...</td>\n",
       "      <td>0.000000</td>\n",
       "      <td>2.000000</td>\n",
       "      <td>0.000000</td>\n",
       "      <td>0.000000</td>\n",
       "      <td>1.000000</td>\n",
       "      <td>0.000000</td>\n",
       "      <td>0.000000</td>\n",
       "      <td>0.000000</td>\n",
       "      <td>0.000000</td>\n",
       "      <td>0.000000</td>\n",
       "    </tr>\n",
       "    <tr>\n",
       "      <th>max</th>\n",
       "      <td>2.017123e+11</td>\n",
       "      <td>2017.000000</td>\n",
       "      <td>12.000000</td>\n",
       "      <td>31.000000</td>\n",
       "      <td>1.000000</td>\n",
       "      <td>1004.000000</td>\n",
       "      <td>12.000000</td>\n",
       "      <td>74.633553</td>\n",
       "      <td>1.793667e+02</td>\n",
       "      <td>5.000000</td>\n",
       "      <td>...</td>\n",
       "      <td>500.000000</td>\n",
       "      <td>8191.000000</td>\n",
       "      <td>751.000000</td>\n",
       "      <td>200.000000</td>\n",
       "      <td>1.000000</td>\n",
       "      <td>1.000000</td>\n",
       "      <td>1.000000</td>\n",
       "      <td>1.000000</td>\n",
       "      <td>1.000000</td>\n",
       "      <td>1.000000</td>\n",
       "    </tr>\n",
       "  </tbody>\n",
       "</table>\n",
       "<p>8 rows × 41 columns</p>\n",
       "</div>"
      ],
      "text/plain": [
       "            eventid          iyear         imonth           iday  \\\n",
       "count  1.816910e+05  181691.000000  181691.000000  181691.000000   \n",
       "mean   2.002705e+11    2002.638997       6.467277      15.505644   \n",
       "std    1.325957e+09      13.259430       3.388303       8.814045   \n",
       "min    1.970000e+11    1970.000000       0.000000       0.000000   \n",
       "25%    1.991021e+11    1991.000000       4.000000       8.000000   \n",
       "50%    2.009022e+11    2009.000000       6.000000      15.000000   \n",
       "75%    2.014081e+11    2014.000000       9.000000      23.000000   \n",
       "max    2.017123e+11    2017.000000      12.000000      31.000000   \n",
       "\n",
       "            extended        country         region       latitude  \\\n",
       "count  181691.000000  181691.000000  181691.000000  177135.000000   \n",
       "mean        0.045346     131.968501       7.160938      23.498343   \n",
       "std         0.208063     112.414535       2.933408      18.569242   \n",
       "min         0.000000       4.000000       1.000000     -53.154613   \n",
       "25%         0.000000      78.000000       5.000000      11.510046   \n",
       "50%         0.000000      98.000000       6.000000      31.467463   \n",
       "75%         0.000000     160.000000      10.000000      34.685087   \n",
       "max         1.000000    1004.000000      12.000000      74.633553   \n",
       "\n",
       "          longitude    specificity  ...       nkillter         nwound  \\\n",
       "count  1.771340e+05  181685.000000  ...  114733.000000  165380.000000   \n",
       "mean  -4.586957e+02       1.451452  ...       0.508058       3.167668   \n",
       "std    2.047790e+05       0.995430  ...       4.199937      35.949392   \n",
       "min   -8.618590e+07       1.000000  ...       0.000000       0.000000   \n",
       "25%    4.545640e+00       1.000000  ...       0.000000       0.000000   \n",
       "50%    4.324651e+01       1.000000  ...       0.000000       0.000000   \n",
       "75%    6.871033e+01       1.000000  ...       0.000000       2.000000   \n",
       "max    1.793667e+02       5.000000  ...     500.000000    8191.000000   \n",
       "\n",
       "            nwoundus       nwoundte       property      ishostkid  \\\n",
       "count  116989.000000  112548.000000  181691.000000  181513.000000   \n",
       "mean        0.038944       0.107163      -0.544556       0.059054   \n",
       "std         3.057361       1.488881       3.122889       0.461244   \n",
       "min         0.000000       0.000000      -9.000000      -9.000000   \n",
       "25%         0.000000       0.000000       0.000000       0.000000   \n",
       "50%         0.000000       0.000000       1.000000       0.000000   \n",
       "75%         0.000000       0.000000       1.000000       0.000000   \n",
       "max       751.000000     200.000000       1.000000       1.000000   \n",
       "\n",
       "             INT_LOG       INT_IDEO       INT_MISC        INT_ANY  \n",
       "count  181691.000000  181691.000000  181691.000000  181691.000000  \n",
       "mean       -4.543731      -4.464398       0.090010      -3.945952  \n",
       "std         4.543547       4.637152       0.568457       4.691325  \n",
       "min        -9.000000      -9.000000      -9.000000      -9.000000  \n",
       "25%        -9.000000      -9.000000       0.000000      -9.000000  \n",
       "50%        -9.000000      -9.000000       0.000000       0.000000  \n",
       "75%         0.000000       0.000000       0.000000       0.000000  \n",
       "max         1.000000       1.000000       1.000000       1.000000  \n",
       "\n",
       "[8 rows x 41 columns]"
      ]
     },
     "execution_count": 55,
     "metadata": {},
     "output_type": "execute_result"
    }
   ],
   "source": [
    "data.describe()"
   ]
  },
  {
   "cell_type": "code",
   "execution_count": 50,
   "id": "91fa6dc2",
   "metadata": {},
   "outputs": [
    {
     "name": "stdout",
     "output_type": "stream",
     "text": [
      "<class 'pandas.core.frame.DataFrame'>\n",
      "RangeIndex: 181691 entries, 0 to 181690\n",
      "Columns: 135 entries, eventid to related\n",
      "dtypes: float64(55), int64(22), object(58)\n",
      "memory usage: 187.1+ MB\n"
     ]
    }
   ],
   "source": [
    "data.info()"
   ]
  },
  {
   "cell_type": "markdown",
   "id": "a785f029",
   "metadata": {},
   "source": [
    "# count null in each column and delete columns with more than 100000 null"
   ]
  },
  {
   "cell_type": "code",
   "execution_count": 38,
   "id": "a69765ab",
   "metadata": {},
   "outputs": [],
   "source": [
    "columns=data.columns\n",
    "for col in columns:\n",
    "    count_null=data[col].isnull().sum()\n",
    "    if count_null >= 100000:\n",
    "        data=data.drop(col,axis=1)"
   ]
  },
  {
   "cell_type": "code",
   "execution_count": 31,
   "id": "e0835918",
   "metadata": {},
   "outputs": [
    {
     "name": "stdout",
     "output_type": "stream",
     "text": [
      " eventid : 0\n",
      " iyear : 0\n",
      " imonth : 0\n",
      " iday : 0\n",
      " extended : 0\n",
      " country : 0\n",
      " country_txt : 0\n",
      " region : 0\n",
      " region_txt : 0\n",
      " provstate : 421\n",
      " city : 435\n",
      " latitude : 4556\n",
      " longitude : 4557\n",
      " specificity : 6\n",
      " vicinity : 0\n",
      " summary : 66129\n",
      " crit1 : 0\n",
      " crit2 : 0\n",
      " crit3 : 0\n",
      " doubtterr : 1\n",
      " multiple : 1\n",
      " success : 0\n",
      " suicide : 0\n",
      " attacktype1 : 0\n",
      " attacktype1_txt : 0\n",
      " targtype1 : 0\n",
      " targtype1_txt : 0\n",
      " targsubtype1 : 10373\n",
      " targsubtype1_txt : 10373\n",
      " corp1 : 42552\n",
      " target1 : 638\n",
      " natlty1 : 1559\n",
      " natlty1_txt : 1559\n",
      " gname : 0\n",
      " guncertain1 : 380\n",
      " individual : 0\n",
      " nperps : 71115\n",
      " nperpcap : 69489\n",
      " claimed : 66120\n",
      " weaptype1 : 0\n",
      " weaptype1_txt : 0\n",
      " weapsubtype1 : 20768\n",
      " weapsubtype1_txt : 20768\n",
      " weapdetail : 67670\n",
      " nkill : 10313\n",
      " nkillus : 64446\n",
      " nkillter : 66958\n",
      " nwound : 16311\n",
      " nwoundus : 64702\n",
      " nwoundte : 69143\n",
      " property : 0\n",
      " ishostkid : 178\n",
      " scite1 : 66191\n",
      " dbsource : 0\n",
      " INT_LOG : 0\n",
      " INT_IDEO : 0\n",
      " INT_MISC : 0\n",
      " INT_ANY : 0\n"
     ]
    }
   ],
   "source": [
    "columns=data.columns\n",
    "for col in columns:\n",
    "    print(f\" {col} : {data[col].isnull().sum()}\")"
   ]
  },
  {
   "cell_type": "markdown",
   "id": "0f0d2411",
   "metadata": {},
   "source": [
    "# check Duplicates"
   ]
  },
  {
   "cell_type": "code",
   "execution_count": 62,
   "id": "7d9e3246",
   "metadata": {},
   "outputs": [
    {
     "data": {
      "text/plain": [
       "0"
      ]
     },
     "execution_count": 62,
     "metadata": {},
     "output_type": "execute_result"
    }
   ],
   "source": [
    "data.duplicated().sum()"
   ]
  },
  {
   "cell_type": "code",
   "execution_count": 54,
   "id": "243f46ba",
   "metadata": {},
   "outputs": [
    {
     "data": {
      "text/plain": [
       "Index(['eventid', 'iyear', 'imonth', 'iday', 'extended', 'country',\n",
       "       'country_txt', 'region', 'region_txt', 'provstate', 'city', 'latitude',\n",
       "       'longitude', 'specificity', 'vicinity', 'summary', 'crit1', 'crit2',\n",
       "       'crit3', 'doubtterr', 'multiple', 'success', 'suicide', 'attacktype1',\n",
       "       'attacktype1_txt', 'targtype1', 'targtype1_txt', 'targsubtype1',\n",
       "       'targsubtype1_txt', 'corp1', 'target1', 'natlty1', 'natlty1_txt',\n",
       "       'gname', 'guncertain1', 'individual', 'nperps', 'nperpcap', 'claimed',\n",
       "       'weaptype1', 'weaptype1_txt', 'weapsubtype1', 'weapsubtype1_txt',\n",
       "       'weapdetail', 'nkill', 'nkillus', 'nkillter', 'nwound', 'nwoundus',\n",
       "       'nwoundte', 'property', 'ishostkid', 'scite1', 'dbsource', 'INT_LOG',\n",
       "       'INT_IDEO', 'INT_MISC', 'INT_ANY'],\n",
       "      dtype='object')"
      ]
     },
     "execution_count": 54,
     "metadata": {},
     "output_type": "execute_result"
    }
   ],
   "source": [
    "col =data.columns\n",
    "col"
   ]
  },
  {
   "cell_type": "code",
   "execution_count": 11,
   "id": "0eebe83d",
   "metadata": {},
   "outputs": [
    {
     "data": {
      "text/plain": [
       "(181691, 57)"
      ]
     },
     "execution_count": 11,
     "metadata": {},
     "output_type": "execute_result"
    }
   ],
   "source": [
    "data.shape"
   ]
  },
  {
   "cell_type": "markdown",
   "id": "6dc62b16",
   "metadata": {},
   "source": [
    "# delete Unnecessary columns"
   ]
  },
  {
   "cell_type": "code",
   "execution_count": 39,
   "id": "b175137a",
   "metadata": {},
   "outputs": [],
   "source": [
    "data = data.drop(columns=['summary', 'nperps','nperpcap' , 'targsubtype1' , 'targsubtype1_txt' , 'weapsubtype1','weapsubtype1_txt' ,'weapdetail' ,'country' , 'region','scite1','nkillus' ,'nkillter' ,'attacktype1','targtype1' ,'nwoundus' ,'nwoundte','ishostkid','INT_LOG','INT_IDEO','INT_MISC','INT_ANY','natlty1','crit1','crit2','crit3','weaptype1','provstate','specificity','vicinity','doubtterr','multiple','corp1','guncertain1','claimed','dbsource'])"
   ]
  },
  {
   "cell_type": "code",
   "execution_count": 128,
   "id": "97b49bd6",
   "metadata": {},
   "outputs": [
    {
     "data": {
      "text/plain": [
       "Index(['iyear', 'imonth', 'iday', 'extended', 'country_txt', 'region_txt',\n",
       "       'city', 'success', 'suicide', 'attacktype1_txt', 'targtype1_txt',\n",
       "       'target1', 'natlty1_txt', 'gname', 'individual', 'weaptype1_txt',\n",
       "       'nkill', 'property'],\n",
       "      dtype='object')"
      ]
     },
     "execution_count": 128,
     "metadata": {},
     "output_type": "execute_result"
    }
   ],
   "source": [
    "data.columns"
   ]
  },
  {
   "cell_type": "code",
   "execution_count": 129,
   "id": "c8ebaae0",
   "metadata": {},
   "outputs": [
    {
     "data": {
      "text/plain": [
       "(181691, 18)"
      ]
     },
     "execution_count": 129,
     "metadata": {},
     "output_type": "execute_result"
    }
   ],
   "source": [
    "data.shape"
   ]
  },
  {
   "cell_type": "markdown",
   "id": "39183431",
   "metadata": {},
   "source": [
    "# Necessary columns"
   ]
  },
  {
   "cell_type": "code",
   "execution_count": 40,
   "id": "21830d28",
   "metadata": {},
   "outputs": [],
   "source": [
    "nessary_columns =['country_txt','region_txt','attacktype1_txt','targtype1_txt','weaptype1_txt','nkill','natlty1_txt']\n",
    "data.dropna(subset=nessary_columns,inplace=True)"
   ]
  },
  {
   "cell_type": "markdown",
   "id": "8d2aa48a",
   "metadata": {},
   "source": [
    "# Hadling missing data"
   ]
  },
  {
   "cell_type": "code",
   "execution_count": 41,
   "id": "a3fd220a",
   "metadata": {},
   "outputs": [
    {
     "name": "stdout",
     "output_type": "stream",
     "text": [
      " eventid : 0\n",
      " iyear : 0\n",
      " imonth : 0\n",
      " iday : 0\n",
      " extended : 0\n",
      " country_txt : 0\n",
      " region_txt : 0\n",
      " city : 433\n",
      " latitude : 3981\n",
      " longitude : 3982\n",
      " success : 0\n",
      " suicide : 0\n",
      " attacktype1_txt : 0\n",
      " targtype1_txt : 0\n",
      " target1 : 533\n",
      " natlty1_txt : 0\n",
      " gname : 0\n",
      " individual : 0\n",
      " weaptype1_txt : 0\n",
      " nkill : 0\n",
      " nwound : 6539\n",
      " property : 0\n"
     ]
    }
   ],
   "source": [
    "columns=data.columns\n",
    "for col in columns:\n",
    "    print(f\" {col} : {data[col].isnull().sum()}\")"
   ]
  },
  {
   "cell_type": "code",
   "execution_count": 42,
   "id": "241d5fb6",
   "metadata": {},
   "outputs": [
    {
     "data": {
      "text/plain": [
       "0    33.303566\n",
       "Name: latitude, dtype: float64"
      ]
     },
     "execution_count": 42,
     "metadata": {},
     "output_type": "execute_result"
    }
   ],
   "source": [
    "common_latitude=data['latitude'].mode()\n",
    "common_latitude"
   ]
  },
  {
   "cell_type": "code",
   "execution_count": 27,
   "id": "4efde2e5",
   "metadata": {},
   "outputs": [
    {
     "data": {
      "text/plain": [
       "0         18.456792\n",
       "1         19.371887\n",
       "2         15.478598\n",
       "5         37.005105\n",
       "6        -34.891151\n",
       "            ...    \n",
       "181686     2.359673\n",
       "181687    35.407278\n",
       "181688     6.900742\n",
       "181689    24.798346\n",
       "181690     7.209594\n",
       "Name: latitude, Length: 169854, dtype: float64"
      ]
     },
     "execution_count": 27,
     "metadata": {},
     "output_type": "execute_result"
    }
   ],
   "source": [
    "data['latitude']"
   ]
  },
  {
   "cell_type": "code",
   "execution_count": 52,
   "id": "7faf28d2",
   "metadata": {},
   "outputs": [],
   "source": [
    "data['longitude']=data['longitude'].astype(str)"
   ]
  },
  {
   "cell_type": "code",
   "execution_count": 55,
   "id": "2d3f0a01",
   "metadata": {},
   "outputs": [],
   "source": [
    "data['latitude']=data['latitude'].astype(str)"
   ]
  },
  {
   "cell_type": "code",
   "execution_count": 56,
   "id": "f3115786",
   "metadata": {},
   "outputs": [],
   "source": [
    "data['latitude']=data['latitude'].fillna(data['latitude'].mode())"
   ]
  },
  {
   "cell_type": "code",
   "execution_count": 53,
   "id": "6a58589b",
   "metadata": {},
   "outputs": [],
   "source": [
    "data['longitude']=data['longitude'].fillna(data['longitude'].mode())"
   ]
  },
  {
   "cell_type": "code",
   "execution_count": 48,
   "id": "a140c54b",
   "metadata": {},
   "outputs": [],
   "source": [
    "data['nwound']=data['nwound'].fillna(data['nwound'].mean())"
   ]
  },
  {
   "cell_type": "code",
   "execution_count": 62,
   "id": "604f2204",
   "metadata": {},
   "outputs": [],
   "source": [
    "data['target1']=data['target1'].fillna(data['target1'].mode())"
   ]
  },
  {
   "cell_type": "code",
   "execution_count": 65,
   "id": "b54fb00b",
   "metadata": {},
   "outputs": [],
   "source": [
    "data=data.drop(columns=['city'])"
   ]
  },
  {
   "cell_type": "code",
   "execution_count": 67,
   "id": "2e41f55b",
   "metadata": {},
   "outputs": [],
   "source": [
    "data.fillna('Unknown',inplace=True)"
   ]
  },
  {
   "cell_type": "code",
   "execution_count": 68,
   "id": "67fae955",
   "metadata": {},
   "outputs": [
    {
     "name": "stdout",
     "output_type": "stream",
     "text": [
      " eventid : 0\n",
      " iyear : 0\n",
      " imonth : 0\n",
      " iday : 0\n",
      " extended : 0\n",
      " country_txt : 0\n",
      " region_txt : 0\n",
      " latitude : 0\n",
      " longitude : 0\n",
      " success : 0\n",
      " suicide : 0\n",
      " attacktype1_txt : 0\n",
      " targtype1_txt : 0\n",
      " target1 : 0\n",
      " natlty1_txt : 0\n",
      " gname : 0\n",
      " individual : 0\n",
      " weaptype1_txt : 0\n",
      " nkill : 0\n",
      " nwound : 0\n",
      " property : 0\n"
     ]
    }
   ],
   "source": [
    "columns=data.columns\n",
    "for col in columns:\n",
    "    print(f\" {col} : {data[col].isnull().sum()}\")"
   ]
  },
  {
   "cell_type": "code",
   "execution_count": 123,
   "id": "14823ff6",
   "metadata": {},
   "outputs": [
    {
     "data": {
      "text/html": [
       "<div>\n",
       "<style scoped>\n",
       "    .dataframe tbody tr th:only-of-type {\n",
       "        vertical-align: middle;\n",
       "    }\n",
       "\n",
       "    .dataframe tbody tr th {\n",
       "        vertical-align: top;\n",
       "    }\n",
       "\n",
       "    .dataframe thead th {\n",
       "        text-align: right;\n",
       "    }\n",
       "</style>\n",
       "<table border=\"1\" class=\"dataframe\">\n",
       "  <thead>\n",
       "    <tr style=\"text-align: right;\">\n",
       "      <th></th>\n",
       "      <th>iyear</th>\n",
       "      <th>imonth</th>\n",
       "      <th>iday</th>\n",
       "      <th>extended</th>\n",
       "      <th>country_txt</th>\n",
       "      <th>region_txt</th>\n",
       "      <th>city</th>\n",
       "      <th>success</th>\n",
       "      <th>suicide</th>\n",
       "      <th>attacktype1_txt</th>\n",
       "      <th>targtype1_txt</th>\n",
       "      <th>target1</th>\n",
       "      <th>natlty1_txt</th>\n",
       "      <th>gname</th>\n",
       "      <th>individual</th>\n",
       "      <th>weaptype1_txt</th>\n",
       "      <th>nkill</th>\n",
       "      <th>property</th>\n",
       "    </tr>\n",
       "  </thead>\n",
       "  <tbody>\n",
       "    <tr>\n",
       "      <th>0</th>\n",
       "      <td>1970</td>\n",
       "      <td>7</td>\n",
       "      <td>2</td>\n",
       "      <td>0</td>\n",
       "      <td>Dominican Republic</td>\n",
       "      <td>Central America &amp; Caribbean</td>\n",
       "      <td>Santo Domingo</td>\n",
       "      <td>1</td>\n",
       "      <td>0</td>\n",
       "      <td>Assassination</td>\n",
       "      <td>Private Citizens &amp; Property</td>\n",
       "      <td>Julio Guzman</td>\n",
       "      <td>Dominican Republic</td>\n",
       "      <td>MANO-D</td>\n",
       "      <td>0</td>\n",
       "      <td>Unknown</td>\n",
       "      <td>1</td>\n",
       "      <td>0</td>\n",
       "    </tr>\n",
       "    <tr>\n",
       "      <th>1</th>\n",
       "      <td>1970</td>\n",
       "      <td>5</td>\n",
       "      <td>15</td>\n",
       "      <td>0</td>\n",
       "      <td>Mexico</td>\n",
       "      <td>North America</td>\n",
       "      <td>Mexico city</td>\n",
       "      <td>1</td>\n",
       "      <td>0</td>\n",
       "      <td>Hostage Taking (Kidnapping)</td>\n",
       "      <td>Government (Diplomatic)</td>\n",
       "      <td>Nadine Chaval, daughter</td>\n",
       "      <td>Belgium</td>\n",
       "      <td>23rd of September Communist League</td>\n",
       "      <td>0</td>\n",
       "      <td>Unknown</td>\n",
       "      <td>0</td>\n",
       "      <td>0</td>\n",
       "    </tr>\n",
       "    <tr>\n",
       "      <th>2</th>\n",
       "      <td>1970</td>\n",
       "      <td>1</td>\n",
       "      <td>15</td>\n",
       "      <td>0</td>\n",
       "      <td>Philippines</td>\n",
       "      <td>Southeast Asia</td>\n",
       "      <td>Unknown</td>\n",
       "      <td>1</td>\n",
       "      <td>0</td>\n",
       "      <td>Assassination</td>\n",
       "      <td>Journalists &amp; Media</td>\n",
       "      <td>Employee</td>\n",
       "      <td>United States</td>\n",
       "      <td>Unknown</td>\n",
       "      <td>0</td>\n",
       "      <td>Unknown</td>\n",
       "      <td>1</td>\n",
       "      <td>0</td>\n",
       "    </tr>\n",
       "    <tr>\n",
       "      <th>5</th>\n",
       "      <td>1970</td>\n",
       "      <td>1</td>\n",
       "      <td>1</td>\n",
       "      <td>0</td>\n",
       "      <td>United States</td>\n",
       "      <td>North America</td>\n",
       "      <td>Cairo</td>\n",
       "      <td>1</td>\n",
       "      <td>0</td>\n",
       "      <td>Armed Assault</td>\n",
       "      <td>Police</td>\n",
       "      <td>Cairo Police Headquarters</td>\n",
       "      <td>United States</td>\n",
       "      <td>Black Nationalists</td>\n",
       "      <td>0</td>\n",
       "      <td>Firearms</td>\n",
       "      <td>0</td>\n",
       "      <td>1</td>\n",
       "    </tr>\n",
       "    <tr>\n",
       "      <th>6</th>\n",
       "      <td>1970</td>\n",
       "      <td>1</td>\n",
       "      <td>2</td>\n",
       "      <td>0</td>\n",
       "      <td>Uruguay</td>\n",
       "      <td>South America</td>\n",
       "      <td>Montevideo</td>\n",
       "      <td>0</td>\n",
       "      <td>0</td>\n",
       "      <td>Assassination</td>\n",
       "      <td>Police</td>\n",
       "      <td>Juan Maria de Lucah/Chief of Directorate of in...</td>\n",
       "      <td>Uruguay</td>\n",
       "      <td>Tupamaros (Uruguay)</td>\n",
       "      <td>0</td>\n",
       "      <td>Firearms</td>\n",
       "      <td>0</td>\n",
       "      <td>0</td>\n",
       "    </tr>\n",
       "  </tbody>\n",
       "</table>\n",
       "</div>"
      ],
      "text/plain": [
       "   iyear  imonth  iday  extended         country_txt  \\\n",
       "0   1970       7     2         0  Dominican Republic   \n",
       "1   1970       5    15         0              Mexico   \n",
       "2   1970       1    15         0         Philippines   \n",
       "5   1970       1     1         0       United States   \n",
       "6   1970       1     2         0             Uruguay   \n",
       "\n",
       "                    region_txt           city  success  suicide  \\\n",
       "0  Central America & Caribbean  Santo Domingo        1        0   \n",
       "1                North America    Mexico city        1        0   \n",
       "2               Southeast Asia        Unknown        1        0   \n",
       "5                North America          Cairo        1        0   \n",
       "6                South America     Montevideo        0        0   \n",
       "\n",
       "               attacktype1_txt                targtype1_txt  \\\n",
       "0                Assassination  Private Citizens & Property   \n",
       "1  Hostage Taking (Kidnapping)      Government (Diplomatic)   \n",
       "2                Assassination          Journalists & Media   \n",
       "5                Armed Assault                       Police   \n",
       "6                Assassination                       Police   \n",
       "\n",
       "                                             target1         natlty1_txt  \\\n",
       "0                                       Julio Guzman  Dominican Republic   \n",
       "1                            Nadine Chaval, daughter             Belgium   \n",
       "2                                           Employee       United States   \n",
       "5                          Cairo Police Headquarters       United States   \n",
       "6  Juan Maria de Lucah/Chief of Directorate of in...             Uruguay   \n",
       "\n",
       "                                gname  individual weaptype1_txt  nkill  \\\n",
       "0                              MANO-D           0       Unknown      1   \n",
       "1  23rd of September Communist League           0       Unknown      0   \n",
       "2                             Unknown           0       Unknown      1   \n",
       "5                  Black Nationalists           0      Firearms      0   \n",
       "6                 Tupamaros (Uruguay)           0      Firearms      0   \n",
       "\n",
       "   property  \n",
       "0         0  \n",
       "1         0  \n",
       "2         0  \n",
       "5         1  \n",
       "6         0  "
      ]
     },
     "execution_count": 123,
     "metadata": {},
     "output_type": "execute_result"
    }
   ],
   "source": [
    "data.head()"
   ]
  },
  {
   "cell_type": "markdown",
   "id": "54ba92c0",
   "metadata": {},
   "source": [
    "# change Datatype"
   ]
  },
  {
   "cell_type": "code",
   "execution_count": 69,
   "id": "0fe6605d",
   "metadata": {},
   "outputs": [],
   "source": [
    "data['nkill']=pd.to_numeric(data['nkill'],errors='coerce')"
   ]
  },
  {
   "cell_type": "code",
   "execution_count": 70,
   "id": "5a806a33",
   "metadata": {},
   "outputs": [
    {
     "data": {
      "text/plain": [
       "eventid              int64\n",
       "iyear                int64\n",
       "imonth               int64\n",
       "iday                 int64\n",
       "extended             int64\n",
       "country_txt         object\n",
       "region_txt          object\n",
       "latitude            object\n",
       "longitude           object\n",
       "success              int64\n",
       "suicide              int64\n",
       "attacktype1_txt     object\n",
       "targtype1_txt       object\n",
       "target1             object\n",
       "natlty1_txt         object\n",
       "gname               object\n",
       "individual           int64\n",
       "weaptype1_txt       object\n",
       "nkill              float64\n",
       "nwound             float64\n",
       "property             int64\n",
       "dtype: object"
      ]
     },
     "execution_count": 70,
     "metadata": {},
     "output_type": "execute_result"
    }
   ],
   "source": [
    "data.dtypes"
   ]
  },
  {
   "cell_type": "code",
   "execution_count": 71,
   "id": "1583783f",
   "metadata": {},
   "outputs": [],
   "source": [
    "data['nkill']=data['nkill'].astype(int)"
   ]
  },
  {
   "cell_type": "code",
   "execution_count": 74,
   "id": "5471f98b",
   "metadata": {},
   "outputs": [],
   "source": [
    "data['nwound']=data['nwound'].astype(int)"
   ]
  },
  {
   "cell_type": "code",
   "execution_count": 76,
   "id": "ca9e0db5",
   "metadata": {},
   "outputs": [
    {
     "data": {
      "text/plain": [
       "eventid             int64\n",
       "iyear               int64\n",
       "imonth              int64\n",
       "iday                int64\n",
       "extended            int64\n",
       "country_txt        object\n",
       "region_txt         object\n",
       "latitude           object\n",
       "longitude          object\n",
       "success             int64\n",
       "suicide             int64\n",
       "attacktype1_txt    object\n",
       "targtype1_txt      object\n",
       "target1            object\n",
       "natlty1_txt        object\n",
       "gname              object\n",
       "individual          int64\n",
       "weaptype1_txt      object\n",
       "nkill               int32\n",
       "nwound              int32\n",
       "property            int64\n",
       "dtype: object"
      ]
     },
     "execution_count": 76,
     "metadata": {},
     "output_type": "execute_result"
    }
   ],
   "source": [
    "data.dtypes"
   ]
  },
  {
   "cell_type": "code",
   "execution_count": 77,
   "id": "9c024535",
   "metadata": {},
   "outputs": [],
   "source": [
    "# common_value=data['imonth'].mode()\n",
    "# common_value =5\n",
    "data['imonth'].replace(0,5,inplace=True)"
   ]
  },
  {
   "cell_type": "code",
   "execution_count": 78,
   "id": "b0d43b0d",
   "metadata": {},
   "outputs": [],
   "source": [
    "# common_value=data['iday'].mode()\n",
    "# common_value = 15\n",
    "data['iday'].replace(0,15,inplace=True)"
   ]
  },
  {
   "cell_type": "markdown",
   "id": "028dc4df",
   "metadata": {},
   "source": [
    "# change text to cosistent format"
   ]
  },
  {
   "cell_type": "code",
   "execution_count": 80,
   "id": "9bbad638",
   "metadata": {},
   "outputs": [],
   "source": [
    "columns_text=['country_txt','region_txt','attacktype1_txt','targtype1_txt','target1','natlty1_txt','gname','weaptype1_txt']\n",
    "for col in columns_text:\n",
    "    data[col]=data[col].str.lower().str.strip()"
   ]
  },
  {
   "cell_type": "markdown",
   "id": "9df0d594",
   "metadata": {},
   "source": [
    "# rename columns"
   ]
  },
  {
   "cell_type": "code",
   "execution_count": 81,
   "id": "782ed5c8",
   "metadata": {},
   "outputs": [],
   "source": [
    "data= data.rename(columns={'iyear':'Year','imonth':'Month','iday':'Day','extended':'Extended','country_txt':'Country','region_txt':'Region','success':'Success','suicide':'Suicide','attacktype1_txt':'Attacktype','targtype1_txt':'Targtype','target1':'Target','natlty1_txt':'Natlty','gname':'Gname','individual':'Individual','weaptype1_txt':'Weaptype','nkill':'Nkill','property':'Property'})"
   ]
  },
  {
   "cell_type": "markdown",
   "id": "75490c98",
   "metadata": {},
   "source": [
    "# save cleaned dataset"
   ]
  },
  {
   "cell_type": "code",
   "execution_count": 82,
   "id": "9a4081c3",
   "metadata": {},
   "outputs": [],
   "source": [
    "data.to_csv(\"globalterrorismdb_cleaned.csv\")"
   ]
  },
  {
   "cell_type": "code",
   "execution_count": null,
   "id": "71291f42",
   "metadata": {},
   "outputs": [],
   "source": []
  }
 ],
 "metadata": {
  "kernelspec": {
   "display_name": "Python 3 (ipykernel)",
   "language": "python",
   "name": "python3"
  },
  "language_info": {
   "codemirror_mode": {
    "name": "ipython",
    "version": 3
   },
   "file_extension": ".py",
   "mimetype": "text/x-python",
   "name": "python",
   "nbconvert_exporter": "python",
   "pygments_lexer": "ipython3",
   "version": "3.9.13"
  }
 },
 "nbformat": 4,
 "nbformat_minor": 5
}
